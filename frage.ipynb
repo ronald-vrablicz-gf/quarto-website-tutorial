{
  "cells": [
    {
      "cell_type": "raw",
      "metadata": {},
      "source": [
        "---\n",
        "title: \"Meine Fragen\"\n",
        "author: \"Ron\"\n",
        "editor: visual\n",
        "---"
      ],
      "id": "216d88a3"
    },
    {
      "cell_type": "markdown",
      "metadata": {},
      "source": [
        "### Page Layout\n",
        "\n",
        "z.b Wie kann ich die Seitenbreite rechts ausnutzen, und mehr:\\\n",
        "wird hier beschrieben: <https://quarto.org/docs/authoring/article-layout.html>\n",
        "\n",
        "### Chunk optons\n",
        "\n",
        "z.b.: Wie kann ich einstellen, dass chunk code nicht in Ergebnis aufscheint\n",
        "[Quarto - Execution Options](https://quarto.org/docs/computations/execution-options.html)\n",
        "\n",
        "\n",
        "```{bash, eval=F}\n",
        "\n",
        "echo \"foo\" \n",
        "```"
      ],
      "id": "3b65666c"
    }
  ],
  "metadata": {
    "kernelspec": {
      "name": "python3",
      "language": "python",
      "display_name": "Python 3"
    }
  },
  "nbformat": 4,
  "nbformat_minor": 5
}